{
  "nbformat": 4,
  "nbformat_minor": 0,
  "metadata": {
    "colab": {
      "name": "tf_tut.ipynb",
      "provenance": [],
      "include_colab_link": true
    },
    "kernelspec": {
      "name": "python3",
      "display_name": "Python 3"
    }
  },
  "cells": [
    {
      "cell_type": "markdown",
      "metadata": {
        "id": "view-in-github",
        "colab_type": "text"
      },
      "source": [
        "<a href=\"https://colab.research.google.com/github/fbarez/machinelearning/blob/master/tf_tut.ipynb\" target=\"_parent\"><img src=\"https://colab.research.google.com/assets/colab-badge.svg\" alt=\"Open In Colab\"/></a>"
      ]
    },
    {
      "cell_type": "code",
      "metadata": {
        "id": "Y4J8TA6vrL_9",
        "colab_type": "code",
        "colab": {
          "base_uri": "https://localhost:8080/",
          "height": 34
        },
        "outputId": "6627c70f-f476-4818-e9c2-92b92973b9c9"
      },
      "source": [
        "import tensorflow as tf\n",
        "\n",
        "a = tf.constant(6, name='constant_a')\n",
        "b = tf.constant(3, name='constant_b')\n",
        "c = tf.constant(10, name='constant_c')\n",
        "d = tf.constant(5, name='constant_d')\n",
        "\n",
        "#a,b,c and d are the tensors flowing through the graph\n",
        "mul = tf.multiply(a,b, name=\"mul\")\n",
        "#mul is a node which specifies the multiply operation on 'a' and 'b'\n",
        "div = tf.div(c,d, name=\"div\")\n",
        "#division operation which divides c by d and have the name \"div\"\n",
        "#tf.add_n sums up the element in an array\n",
        "addn = tf.add_n([mul,div], name=\"addn\")\n",
        "\n",
        "sess = tf.Session()\n",
        "sess.run(addn)"
      ],
      "execution_count": 2,
      "outputs": [
        {
          "output_type": "execute_result",
          "data": {
            "text/plain": [
              "20"
            ]
          },
          "metadata": {
            "tags": []
          },
          "execution_count": 2
        }
      ]
    },
    {
      "cell_type": "code",
      "metadata": {
        "id": "WBuRfVqyrnSe",
        "colab_type": "code",
        "colab": {
          "base_uri": "https://localhost:8080/",
          "height": 34
        },
        "outputId": "a4ba0576-846f-4c58-a220-025a0e303279"
      },
      "source": [
        "mul = tf.multiply(a,b, name=\"mul\")\n",
        "sess = tf.Session()\n",
        "sess.run(mul)"
      ],
      "execution_count": 3,
      "outputs": [
        {
          "output_type": "execute_result",
          "data": {
            "text/plain": [
              "18"
            ]
          },
          "metadata": {
            "tags": []
          },
          "execution_count": 3
        }
      ]
    },
    {
      "cell_type": "code",
      "metadata": {
        "id": "h0l1IrB-rukr",
        "colab_type": "code",
        "colab": {
          "base_uri": "https://localhost:8080/",
          "height": 68
        },
        "outputId": "d6bc8dcc-a3c9-41fe-b20c-603d44f50319"
      },
      "source": [
        "import tensorflow as tf\n",
        "\n",
        "##when you declare some constant, its value can't be changed in the future (also the initialization should be with a value,\n",
        "## not with operation)\n",
        "\n",
        "# Initialize two constants\n",
        "x1 = tf.constant([1,2,3,4])\n",
        "x2 = tf.constant([5,6,7,6])\n",
        "\n",
        "# Multiply\n",
        "result = tf.multiply(x1, x2)\n",
        "\n",
        "# Print the result\n",
        "print(result)\n",
        "\n",
        "# Multiply\n",
        "result = tf.multiply(x1, x2)\n",
        "\n",
        "# Intialize the Session\n",
        "sess = tf.Session()\n",
        "\n",
        "# Print the result\n",
        "print(sess.run(result))\n",
        "\n",
        "# Close the session\n",
        "sess.close()\n",
        "\n",
        "##when you declare a Variable, you can change its value in the future\n",
        "\n",
        "x = tf.constant(35, name='x')\n",
        "y = tf.Variable(x + 8, name='y')\n",
        "\n",
        "model = tf.global_variables_initializer() \n",
        "\n",
        "with tf.Session() as session:\n",
        "    session.run(model)\n",
        "    print(session.run(y))"
      ],
      "execution_count": 5,
      "outputs": [
        {
          "output_type": "stream",
          "text": [
            "Tensor(\"Mul_5:0\", shape=(4,), dtype=int32)\n",
            "[ 5 12 21 24]\n",
            "43\n"
          ],
          "name": "stdout"
        }
      ]
    },
    {
      "cell_type": "code",
      "metadata": {
        "id": "E_i8_2j2sPSj",
        "colab_type": "code",
        "colab": {}
      },
      "source": [
        "### Placeholders"
      ],
      "execution_count": 0,
      "outputs": []
    },
    {
      "cell_type": "code",
      "metadata": {
        "id": "LrYLgYUnsSmJ",
        "colab_type": "code",
        "colab": {}
      },
      "source": [
        "x = tf.placeholder(tf.int32, shape=[3], name='x')\n",
        "y = tf.placeholder(tf.int32, shape=[3], name='x')\n",
        "sum_x = tf.reduce_sum(x, name='sume_x')\n",
        "prod_y = tf.reduce_prod(y, name='prod_y')"
      ],
      "execution_count": 0,
      "outputs": []
    },
    {
      "cell_type": "code",
      "metadata": {
        "id": "W2lRb1DGs2PL",
        "colab_type": "code",
        "colab": {}
      },
      "source": [
        "final_mean = tf.reduce_mean([sum_x, prod_y], name='final_mean')"
      ],
      "execution_count": 0,
      "outputs": []
    },
    {
      "cell_type": "code",
      "metadata": {
        "id": "LKu8KFGUtLic",
        "colab_type": "code",
        "colab": {
          "base_uri": "https://localhost:8080/",
          "height": 34
        },
        "outputId": "86d30820-ac1c-4a39-9baa-e6ba17e21e1a"
      },
      "source": [
        "sess = tf.Session()\n",
        "print(\"sum (x): \", sess.run(sum_x, feed_dict={x: [100, 200, 300]})) "
      ],
      "execution_count": 11,
      "outputs": [
        {
          "output_type": "stream",
          "text": [
            "sum (x):  600\n"
          ],
          "name": "stdout"
        }
      ]
    },
    {
      "cell_type": "code",
      "metadata": {
        "id": "5CIpIM4qtj5d",
        "colab_type": "code",
        "colab": {
          "base_uri": "https://localhost:8080/",
          "height": 34
        },
        "outputId": "9c0ac789-e5b7-4b34-b573-53af25e84ffc"
      },
      "source": [
        "print(\"prod (y): \", sess.run(prod_y, feed_dict={y: [1, 2, 3]})) "
      ],
      "execution_count": 12,
      "outputs": [
        {
          "output_type": "stream",
          "text": [
            "prod (y):  6\n"
          ],
          "name": "stdout"
        }
      ]
    },
    {
      "cell_type": "code",
      "metadata": {
        "id": "Jmboy8XbtwdY",
        "colab_type": "code",
        "colab": {}
      },
      "source": [
        ""
      ],
      "execution_count": 0,
      "outputs": []
    },
    {
      "cell_type": "code",
      "metadata": {
        "id": "svGCGC5Wt-QZ",
        "colab_type": "code",
        "colab": {}
      },
      "source": [
        ""
      ],
      "execution_count": 0,
      "outputs": []
    },
    {
      "cell_type": "code",
      "metadata": {
        "id": "lPNp_b0Zt_Ip",
        "colab_type": "code",
        "colab": {}
      },
      "source": [
        ""
      ],
      "execution_count": 0,
      "outputs": []
    }
  ]
}