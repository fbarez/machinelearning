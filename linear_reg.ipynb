{
 "cells": [
  {
   "cell_type": "code",
   "execution_count": 9,
   "metadata": {},
   "outputs": [],
   "source": [
    "import numpy as np\n",
    "import matplotlib.pyplot as plt\n",
    "%matplotlib inline"
   ]
  },
  {
   "cell_type": "code",
   "execution_count": 2,
   "metadata": {},
   "outputs": [],
   "source": [
    "## ar data\n",
    "\n",
    "from sklearn import datasets "
   ]
  },
  {
   "cell_type": "code",
   "execution_count": 84,
   "metadata": {},
   "outputs": [],
   "source": [
    "X,y = datasets.make_regression(n_samples=1000, n_features=1, n_informative=1, n_targets=1, noise=100)"
   ]
  },
  {
   "cell_type": "code",
   "execution_count": 85,
   "metadata": {},
   "outputs": [],
   "source": [
    "## reshape to get 2 dim\n",
    "\n",
    "if(y.ndim==1):\n",
    "    y=y.reshape(len(y), 1)"
   ]
  },
  {
   "cell_type": "code",
   "execution_count": 86,
   "metadata": {},
   "outputs": [
    {
     "data": {
      "text/plain": [
       "<Figure size 1080x648 with 0 Axes>"
      ]
     },
     "execution_count": 86,
     "metadata": {},
     "output_type": "execute_result"
    },
    {
     "data": {
      "text/plain": [
       "<Figure size 1080x648 with 0 Axes>"
      ]
     },
     "metadata": {},
     "output_type": "display_data"
    }
   ],
   "source": [
    "plt.figure(figsize=(15,9))"
   ]
  },
  {
   "cell_type": "code",
   "execution_count": 87,
   "metadata": {},
   "outputs": [
    {
     "data": {
      "text/plain": [
       "[<matplotlib.lines.Line2D at 0x1a282f2438>]"
      ]
     },
     "execution_count": 87,
     "metadata": {},
     "output_type": "execute_result"
    },
    {
     "data": {
      "image/png": "[encoded data removed]",
      "text/plain": [
       "<Figure size 432x288 with 1 Axes>"
      ]
     },
     "metadata": {
      "needs_background": "light"
     },
     "output_type": "display_data"
    }
   ],
   "source": [
    "plt.plot(y, X, '.b')"
   ]
  },
  {
   "cell_type": "code",
   "execution_count": 69,
   "metadata": {},
   "outputs": [],
   "source": [
    "from sklearn.model_selection import train_test_split"
   ]
  },
  {
   "cell_type": "code",
   "execution_count": 71,
   "metadata": {},
   "outputs": [],
   "source": [
    "X_train,X_test, y_train, y_test = train_test_split(X,y, test_size=0.3, random_state=260693)"
   ]
  },
  {
   "cell_type": "code",
   "execution_count": 91,
   "metadata": {},
   "outputs": [],
   "source": [
    "target = y_train.shape[1]\n",
    "inputs = X_train.shape[1]"
   ]
  },
  {
   "cell_type": "code",
   "execution_count": 92,
   "metadata": {},
   "outputs": [],
   "source": [
    "import tensorflow as tf\n"
   ]
  },
  {
   "cell_type": "code",
   "execution_count": 94,
   "metadata": {},
   "outputs": [
    {
     "name": "stdout",
     "output_type": "stream",
     "text": [
      "WARNING:tensorflow:From /Users/fazlbarez/miniconda3/lib/python3.7/site-packages/tensorflow_core/python/compat/v2_compat.py:65: disable_resource_variables (from tensorflow.python.ops.variable_scope) is deprecated and will be removed in a future version.\n",
      "Instructions for updating:\n",
      "non-resource variables are not supported in the long term\n"
     ]
    }
   ],
   "source": [
    "import tensorflow.compat.v1 as tf\n",
    "tf.disable_v2_behavior() "
   ]
  },
  {
   "cell_type": "code",
   "execution_count": 95,
   "metadata": {},
   "outputs": [],
   "source": [
    "x_tensor = tf.placeholder(dtype=tf.float32, shape=[None, inputs], name=\"x\")"
   ]
  },
  {
   "cell_type": "code",
   "execution_count": 96,
   "metadata": {},
   "outputs": [],
   "source": [
    "y_tensor = tf.placeholder(dtype=tf.float32, shape=[None, target], name=\"y\")"
   ]
  },
  {
   "cell_type": "code",
   "execution_count": 98,
   "metadata": {},
   "outputs": [],
   "source": [
    "weights = tf.Variable(tf.zeros([inputs, target]), dtype=tf.float32, name='w')"
   ]
  },
  {
   "cell_type": "code",
   "execution_count": 99,
   "metadata": {},
   "outputs": [],
   "source": [
    "bias = tf.Variable(tf.zeros([target]), dtype=tf.float32, name='b')"
   ]
  },
  {
   "cell_type": "markdown",
   "metadata": {},
   "source": [
    "## create a model of the form:\n",
    "    y = WX+b"
   ]
  },
  {
   "cell_type": "code",
   "execution_count": 101,
   "metadata": {},
   "outputs": [],
   "source": [
    "model = tf.matmul(x_tensor, weights)+bias"
   ]
  },
  {
   "cell_type": "code",
   "execution_count": 102,
   "metadata": {},
   "outputs": [],
   "source": [
    "mse = tf.reduce_mean(tf.square(model-y_tensor))"
   ]
  },
  {
   "cell_type": "code",
   "execution_count": 104,
   "metadata": {},
   "outputs": [],
   "source": [
    "y_mean = tf.reduce_mean(y_tensor)"
   ]
  },
  {
   "cell_type": "code",
   "execution_count": 105,
   "metadata": {},
   "outputs": [],
   "source": [
    "total_error = tf.reduce_sum(tf.square(y_tensor-y_mean))"
   ]
  },
  {
   "cell_type": "code",
   "execution_count": 107,
   "metadata": {},
   "outputs": [],
   "source": [
    "learning_rate = 0.001\n",
    "optimizer = tf.train.GradientDescentOptimizer(learning_rate).minimize(mse)"
   ]
  },
  {
   "cell_type": "code",
   "execution_count": 108,
   "metadata": {},
   "outputs": [],
   "source": [
    "num_epochs = 2000\n",
    "w_hat = 0\n",
    "b_hat = 0\n",
    "\n",
    "# initalizing values with zero"
   ]
  },
  {
   "cell_type": "code",
   "execution_count": 111,
   "metadata": {},
   "outputs": [
    {
     "ename": "NameError",
     "evalue": "name 'loss_epoch' is not defined",
     "output_type": "error",
     "traceback": [
      "\u001b[0;31m---------------------------------------------------------------------------\u001b[0m",
      "\u001b[0;31mNameError\u001b[0m                                 Traceback (most recent call last)",
      "\u001b[0;32m<ipython-input-111-ea98553744ac>\u001b[0m in \u001b[0;36m<module>\u001b[0;34m\u001b[0m\n\u001b[1;32m      4\u001b[0m         \u001b[0mfeed_dict\u001b[0m \u001b[0;34m=\u001b[0m \u001b[0;34m{\u001b[0m\u001b[0mx_tensor\u001b[0m\u001b[0;34m:\u001b[0m \u001b[0mX_train\u001b[0m\u001b[0;34m,\u001b[0m \u001b[0my_tensor\u001b[0m\u001b[0;34m:\u001b[0m \u001b[0my_train\u001b[0m\u001b[0;34m}\u001b[0m\u001b[0;34m\u001b[0m\u001b[0;34m\u001b[0m\u001b[0m\n\u001b[1;32m      5\u001b[0m         \u001b[0mloss_val\u001b[0m\u001b[0;34m,\u001b[0m \u001b[0m_\u001b[0m \u001b[0;34m=\u001b[0m \u001b[0mtfs\u001b[0m\u001b[0;34m.\u001b[0m\u001b[0mrun\u001b[0m\u001b[0;34m(\u001b[0m\u001b[0;34m[\u001b[0m\u001b[0mmse\u001b[0m\u001b[0;34m,\u001b[0m \u001b[0moptimizer\u001b[0m\u001b[0;34m]\u001b[0m\u001b[0;34m,\u001b[0m \u001b[0mfeed_dict\u001b[0m\u001b[0;34m=\u001b[0m\u001b[0mfeed_dict\u001b[0m\u001b[0;34m)\u001b[0m\u001b[0;34m\u001b[0m\u001b[0;34m\u001b[0m\u001b[0m\n\u001b[0;32m----> 6\u001b[0;31m         \u001b[0mloss_epoch\u001b[0m\u001b[0;34m[\u001b[0m\u001b[0mepoch\u001b[0m\u001b[0;34m]\u001b[0m \u001b[0;34m=\u001b[0m \u001b[0mloss_val\u001b[0m \u001b[0;31m#calculate error and store it\u001b[0m\u001b[0;34m\u001b[0m\u001b[0;34m\u001b[0m\u001b[0m\n\u001b[0m\u001b[1;32m      7\u001b[0m \u001b[0;34m\u001b[0m\u001b[0m\n\u001b[1;32m      8\u001b[0m         \u001b[0mfeed_dict\u001b[0m \u001b[0;34m=\u001b[0m \u001b[0;34m{\u001b[0m\u001b[0mx_tensor\u001b[0m\u001b[0;34m:\u001b[0m \u001b[0mX_test\u001b[0m\u001b[0;34m,\u001b[0m \u001b[0my_tensor\u001b[0m\u001b[0;34m:\u001b[0m \u001b[0my_test\u001b[0m\u001b[0;34m}\u001b[0m\u001b[0;34m\u001b[0m\u001b[0;34m\u001b[0m\u001b[0m\n",
      "\u001b[0;31mNameError\u001b[0m: name 'loss_epoch' is not defined"
     ]
    }
   ],
   "source": [
    "with tf.Session() as tfs:\n",
    "    tfs.run(tf.global_variables_initializer()) #run loop over training date\n",
    "    for epoch in range(num_epochs):\n",
    "        feed_dict = {x_tensor: X_train, y_tensor: y_train}\n",
    "        loss_val, _ = tfs.run([mse, optimizer], feed_dict=feed_dict)\n",
    "        loss_epoch[epoch] = loss_val #calculate error and store it\n",
    "        \n",
    "        feed_dict = {x_tensor: X_test, y_tensor: y_test}\n",
    "        mse_score = tfs.run([mse], feed_dict=feed_dict)\n",
    "        mse_epochs[epoch] = mse_score\n",
    "        w_hat, b_hat = tfs.run([w, b]) #weights and biases learned \n",
    "        w_hat = w_hat.reshape(1)\n",
    "        \n",
    "        \n",
    "print('model: Y = {0:.8f} X + {1:.8f}'.format(w_hat[0], b_hat[0]))\n",
    "print('for test data : MSE = {0:.0f}, MSE = {1:.8f}'.format(mse_score))"
   ]
  },
  {
   "cell_type": "code",
   "execution_count": 119,
   "metadata": {},
   "outputs": [
    {
     "name": "stdout",
     "output_type": "stream",
     "text": [
      "model : Y = 6.93484497 X + 3.49111462\n"
     ]
    }
   ],
   "source": [
    "#x_tensor=tf.placeholder(dtype=tf.float32, shape=[None,num_inputs],name=\"x\")\n",
    "## tf placeholder to accomodate the input\n",
    "#y_tensor=tf.placeholder(dtype=tf.float32, shape=[None,num_outputs],name=\"y\")##response variable\n",
    "num_inputs = inputs\n",
    "num_outputs = target\n",
    "w=tf.Variable(tf.zeros([num_inputs,num_outputs]),dtype=tf.float32,name=\"w\")\n",
    "b=tf.Variable(tf.zeros([num_outputs]),dtype=tf.float32,name=\"b\")\n",
    "\n",
    "model=tf.matmul(x_tensor,w)+b #y=W*x + b \n",
    "\n",
    "loss = tf.reduce_mean(tf.square(model-y_tensor))#MSE \n",
    "\n",
    "mse = tf.reduce_mean(tf.square(model-y_tensor))#MSE \n",
    "\n",
    "y_mean=tf.reduce_mean(y_tensor)\n",
    "\n",
    "total_error=tf.reduce_sum(tf.square(y_tensor-y_mean))\n",
    "\n",
    "unexplained_error=tf.reduce_sum(tf.square(y_tensor-model))\n",
    "\n",
    "learning_rate=0.001\n",
    "\n",
    "optimizer=tf.train.GradientDescentOptimizer(learning_rate).minimize(loss)\n",
    "##gradient descent is an algorithm that minimizes functions\n",
    "## learning rate is the step we take per iteration\n",
    "\n",
    "num_epochs=1800 ##number of iterations to run the training for\n",
    "\n",
    "##w_hat and b_hat: estimates of w and b\n",
    "w_hat=0\n",
    "b_hat=0\n",
    "\n",
    "loss_epochs=np.empty(shape=[num_epochs],dtype=float)\n",
    "mse_epochs=np.empty(shape=[num_epochs],dtype=float)\n",
    "rs_epochs=np.empty(shape=[num_epochs],dtype=float)\n",
    "\n",
    "mse_score=0\n",
    "rsq_score=0\n",
    "#initial values\n",
    "\n",
    "with tf.Session() as tfs:\n",
    "    tfs.run(tf.global_variables_initializer())#run optimizer/loop on training data\n",
    "    for epoch in range(num_epochs):\n",
    "        feed_dict = {x_tensor: X_train, y_tensor: y_train}\n",
    "        loss_val, _ = tfs.run([loss, optimizer], feed_dict=feed_dict)\n",
    "        loss_epochs[epoch] = loss_val #calculate and store error\n",
    "\n",
    "        feed_dict = {x_tensor: X_test, y_tensor: y_test}\n",
    "        mse_score = tfs.run([mse], feed_dict=feed_dict)\n",
    "        #mse_epochs[epoch] = mse_score\n",
    "        #rs_epochs[epoch] = rsq_score\n",
    "\n",
    "    w_hat, b_hat = tfs.run([w, b]) #final values of w and b obtained after all iterations\n",
    "    w_hat = w_hat.reshape(1)\n",
    "\n",
    "print('model : Y = {0:.8f} X + {1:.8f}'.format(w_hat[0], b_hat[0]))\n",
    "#print('For test data : MSE = {0:.8f}, R2 = {1:.8f} '.format(\n",
    "   # mse_score, rsq_score))"
   ]
  },
  {
   "cell_type": "code",
   "execution_count": null,
   "metadata": {},
   "outputs": [],
   "source": []
  }
 ],
 "metadata": {
  "kernelspec": {
   "display_name": "Python 3",
   "language": "python",
   "name": "python3"
  },
  "language_info": {
   "codemirror_mode": {
    "name": "ipython",
    "version": 3
   },
   "file_extension": ".py",
   "mimetype": "text/x-python",
   "name": "python",
   "nbconvert_exporter": "python",
   "pygments_lexer": "ipython3",
   "version": "3.7.3"
  }
 },
 "nbformat": 4,
 "nbformat_minor": 2
}
